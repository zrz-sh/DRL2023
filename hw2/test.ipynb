{
 "cells": [
  {
   "cell_type": "code",
   "execution_count": 1,
   "metadata": {},
   "outputs": [
    {
     "name": "stdout",
     "output_type": "stream",
     "text": [
      "deque([], maxlen=2)\n",
      "deque([1], maxlen=2)\n",
      "deque([1, 2], maxlen=2)\n",
      "deque([2, 3], maxlen=2)\n"
     ]
    }
   ],
   "source": [
    "from collections import deque\n",
    "\n",
    "A = deque([], maxlen=2)\n",
    "print(A)\n",
    "A.append(1)\n",
    "print(A)\n",
    "A.append(2)\n",
    "print(A)\n",
    "A.append(3)\n",
    "print(A)"
   ]
  }
 ],
 "metadata": {
  "kernelspec": {
   "display_name": "drl",
   "language": "python",
   "name": "python3"
  },
  "language_info": {
   "codemirror_mode": {
    "name": "ipython",
    "version": 3
   },
   "file_extension": ".py",
   "mimetype": "text/x-python",
   "name": "python",
   "nbconvert_exporter": "python",
   "pygments_lexer": "ipython3",
   "version": "3.10.9"
  },
  "orig_nbformat": 4
 },
 "nbformat": 4,
 "nbformat_minor": 2
}
